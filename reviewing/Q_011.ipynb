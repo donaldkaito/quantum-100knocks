{
 "cells": [
  {
   "cell_type": "code",
   "execution_count": 4,
   "metadata": {},
   "outputs": [],
   "source": [
    "import numpy as np\n",
    "from qiskit import QuantumCircuit, Aer, transpile\n",
    "from qiskit.visualization import plot_bloch_multivector\n",
    "from qiskit.quantum_info import Statevector\n",
    "from IPython.display import display\n",
    "from qiskit.tools.visualization import plot_histogram\n",
    "\n",
    "sim = Aer.get_backend(\"aer_simulator\")"
   ]
  },
  {
   "cell_type": "markdown",
   "metadata": {},
   "source": [
    "# Q11 GHZ状態(3量子ビットのもつれ)について、前問と同様に確認せよ。"
   ]
  },
  {
   "cell_type": "markdown",
   "metadata": {},
   "source": [
    "## 解答"
   ]
  },
  {
   "cell_type": "code",
   "execution_count": 25,
   "metadata": {},
   "outputs": [
    {
     "name": "stdout",
     "output_type": "stream",
     "text": [
      "Bitstring 000: Expected observation prob. = 0.5\n",
      "Bitstring 111: Expected observation prob. = 0.5\n",
      "Bitstring 000: Actual observation prob. = 0.5\n",
      "Bitstring 111: Actual observation prob. = 0.5\n"
     ]
    }
   ],
   "source": [
    "qc = QuantumCircuit(3, 3)\n",
    "qc.h(0)\n",
    "qc.cx(0, 1)\n",
    "qc.cx(1, 2)\n",
    "state_vec = Statevector(qc).to_dict()\n",
    "\n",
    "for bitstring, wave_func in state_vec.items():\n",
    "    prob = wave_func.real**2 + wave_func.imag**2\n",
    "    print(f\"Bitstring {bitstring}: \"\n",
    "          f\"Expected observation prob. = {np.round(prob, 8)}\")\n",
    "\n",
    "qc.measure([0, 1, 2], [0, 1, 2])\n",
    "shots = 100000\n",
    "counts = sim.run(qc, shots=shots).result().get_counts()\n",
    "for bitstring, count in counts.items():\n",
    "    print(f\"Bitstring {bitstring}: \"\n",
    "          f\"Actual observation prob. = {np.round(count/shots, 2)}\")"
   ]
  },
  {
   "cell_type": "markdown",
   "metadata": {},
   "source": [
    "## 解説\n",
    "3量子ビットのGHZ状態は、3量子ビットの量子回路において、アダマールゲートと制御Xゲートを実行することで得られる。初期状態が$|000\\rangle$のケースを具体的に計算してみる。まずアダマールゲートを0番目の量子ビットに作用させると\n",
    "$$\n",
    "|000\\rangle \\to (|000\\rangle+|001\\rangle)/\\sqrt{2}\n",
    "$$\n",
    "が得られる。次に、0番目の量子ビットを制御ビットとする制御Xゲートを1番目の量子ビットに作用させると\n",
    "$$\n",
    "(|000\\rangle+|001\\rangle)/\\sqrt{2} \\to (|000\\rangle+|011\\rangle)/\\sqrt{2}\n",
    "$$\n",
    "が得られる。最後に、1番目の量子ビットを制御ビットとする制御Xゲートを2番目の量子ビットに作用させると\n",
    "$$\n",
    "(|000\\rangle+|011\\rangle)/\\sqrt{2} \\to (|000\\rangle+|111\\rangle)/\\sqrt{2}\n",
    "$$\n",
    "となり、これが3量子ビットのGHZ状態である。測定確率の理論的な導出方法と実際の測定確率の確認方法は前問と同じである。\n",
    "\n",
    "## 参考資料\n",
    "- Qiskitチュートリアル https://qiskit.org/documentation/locale/ja_JP/tutorials/circuits/01_circuit_basics.html#%E5%9B%9E%E7%B7%9A%E3%81%AE%E6%A7%8B%E7%AF%89"
   ]
  }
 ],
 "metadata": {
  "kernelspec": {
   "display_name": "Python 3",
   "language": "python",
   "name": "python3"
  },
  "language_info": {
   "codemirror_mode": {
    "name": "ipython",
    "version": 3
   },
   "file_extension": ".py",
   "mimetype": "text/x-python",
   "name": "python",
   "nbconvert_exporter": "python",
   "pygments_lexer": "ipython3",
   "version": "3.7.6"
  },
  "toc": {
   "base_numbering": 1,
   "nav_menu": {},
   "number_sections": false,
   "sideBar": true,
   "skip_h1_title": false,
   "title_cell": "Table of Contents",
   "title_sidebar": "Contents",
   "toc_cell": false,
   "toc_position": {},
   "toc_section_display": true,
   "toc_window_display": true
  }
 },
 "nbformat": 4,
 "nbformat_minor": 2
}
