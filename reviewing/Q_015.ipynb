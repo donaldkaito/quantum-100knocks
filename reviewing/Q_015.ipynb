{
 "cells": [
  {
   "cell_type": "code",
   "execution_count": 1,
   "metadata": {},
   "outputs": [],
   "source": [
    "import numpy as np\n",
    "from qiskit import QuantumCircuit, Aer, transpile\n",
    "from qiskit.visualization import plot_bloch_multivector\n",
    "from qiskit.quantum_info import Statevector\n",
    "from IPython.display import display\n",
    "from qiskit.tools.visualization import plot_histogram\n",
    "\n",
    "sim = Aer.get_backend(\"aer_simulator\")"
   ]
  },
  {
   "cell_type": "markdown",
   "metadata": {},
   "source": [
    "\n",
    "# Q15 前問の確認をTとSについても行い、全問との違いを比較せよ。"
   ]
  },
  {
   "attachments": {},
   "cell_type": "markdown",
   "metadata": {},
   "source": [
    "## 解答"
   ]
  },
  {
   "cell_type": "code",
   "execution_count": 3,
   "metadata": {},
   "outputs": [
    {
     "name": "stdout",
     "output_type": "stream",
     "text": [
      "行列計算 T*T = \n",
      "[[1.00000000e+00+0.j 0.00000000e+00+0.j]\n",
      " [0.00000000e+00+0.j 2.22044605e-16+1.j]]\n",
      "ゲートの実行 T*T = \n",
      "[[1.+0.j 0.+0.j]\n",
      " [0.+0.j 0.+1.j]]\n"
     ]
    }
   ],
   "source": [
    "\"\"\"Tゲート\"\"\"\n",
    "# 行列計算\n",
    "# numpy ndarrayを用いて行列を定義\n",
    "t_matrix = np.array([[1., 0.], [0., np.exp(np.pi/4.*1j)]])\n",
    "tt_matrix = np.matmul(t_matrix, t_matrix)\n",
    "print(f\"行列計算 T*T = \\n{tt_matrix}\")\n",
    "\n",
    "# ゲートの実行\n",
    "\n",
    "\n",
    "def get_circuit_as_unitary_op(qc):\n",
    "    \"\"\"量子回路をユニタリ行列として返す関数\"\"\"\n",
    "    unitary_sim = Aer.get_backend(\"unitary_simulator\")\n",
    "    unitary_op = unitary_sim.run(circuits=qc).result().get_unitary()\n",
    "    return unitary_op\n",
    "\n",
    "# 1量子ビットの量子回路を作成\n",
    "qc = QuantumCircuit(1)\n",
    "# Tゲートを二回連続で作用\n",
    "qc.t(qubit=0)\n",
    "qc.t(qubit=0)\n",
    "unitary_op = get_circuit_as_unitary_op(qc=qc)\n",
    "print(f\"ゲートの実行 T*T = \\n{unitary_op.data}\")"
   ]
  },
  {
   "cell_type": "code",
   "execution_count": 4,
   "metadata": {},
   "outputs": [
    {
     "name": "stdout",
     "output_type": "stream",
     "text": [
      "行列計算 S*S = \n",
      "[[ 1.+0.j  0.+0.j]\n",
      " [ 0.+0.j -1.+0.j]]\n",
      "ゲートの実行 S*S = \n",
      "[[ 1.+0.j  0.+0.j]\n",
      " [-0.-0.j -1.-0.j]]\n"
     ]
    }
   ],
   "source": [
    "\"\"\"Sゲート\"\"\"\n",
    "# 行列計算\n",
    "s_matrix = np.array([[1., 0.], [0., 1j]])\n",
    "ss_matrix = np.matmul(s_matrix, s_matrix)\n",
    "print(f\"行列計算 S*S = \\n{ss_matrix}\")\n",
    "\n",
    "# ゲートの実行\n",
    "qc = QuantumCircuit(1)\n",
    "qc.s(qubit=0)\n",
    "qc.s(qubit=0)\n",
    "unitary_op = get_circuit_as_unitary_op(qc=qc)\n",
    "print(f\"ゲートの実行 S*S = \\n{unitary_op.data}\")"
   ]
  },
  {
   "attachments": {},
   "cell_type": "markdown",
   "metadata": {},
   "source": [
    "## 解説\n",
    "前問で扱ったゲートととは異なり、TゲートとSゲートはエルミート行列ではない。故に、$AA=I$を満たさないことは定性的にも示すことができる。\n",
    "\n",
    "## 参考資料\n",
    "- Qiskitテキストブック https://qiskit.org/textbook/ja/ch-states/single-qubit-gates.html#6.2-S%E3%82%B2%E3%83%BC%E3%83%88-"
   ]
  }
 ],
 "metadata": {
  "kernelspec": {
   "display_name": "toys",
   "language": "python",
   "name": "toys"
  },
  "language_info": {
   "codemirror_mode": {
    "name": "ipython",
    "version": 3
   },
   "file_extension": ".py",
   "mimetype": "text/x-python",
   "name": "python",
   "nbconvert_exporter": "python",
   "pygments_lexer": "ipython3",
   "version": "3.8.13"
  },
  "toc": {
   "base_numbering": 1,
   "nav_menu": {},
   "number_sections": false,
   "sideBar": true,
   "skip_h1_title": false,
   "title_cell": "Table of Contents",
   "title_sidebar": "Contents",
   "toc_cell": false,
   "toc_position": {},
   "toc_section_display": true,
   "toc_window_display": true
  }
 },
 "nbformat": 4,
 "nbformat_minor": 2
}
