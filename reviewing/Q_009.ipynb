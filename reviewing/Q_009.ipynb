{
 "cells": [
  {
   "cell_type": "code",
   "execution_count": 4,
   "metadata": {},
   "outputs": [],
   "source": [
    "import numpy as np\n",
    "from qiskit import QuantumCircuit, Aer, transpile\n",
    "from qiskit.visualization import plot_bloch_multivector\n",
    "from qiskit.quantum_info import Statevector\n",
    "from IPython.display import display\n",
    "from qiskit.tools.visualization import plot_histogram\n",
    "\n",
    "sim = Aer.get_backend(\"aer_simulator\")"
   ]
  },
  {
   "cell_type": "markdown",
   "metadata": {},
   "source": [
    "# Q9  4種のbell状態|00>+|11>, |00>-|11>, |01>+|10>, |01>-|10>をそれぞれ作成せよ。"
   ]
  },
  {
   "cell_type": "markdown",
   "metadata": {},
   "source": [
    "## 解答"
   ]
  },
  {
   "cell_type": "code",
   "execution_count": 2,
   "metadata": {},
   "outputs": [
    {
     "data": {
      "text/html": [
       "<pre style=\"word-wrap: normal;white-space: pre;background: #fff0;line-height: 1.1;font-family: &quot;Courier New&quot;,Courier,monospace\">     ┌───┐     \n",
       "q_0: ┤ H ├──■──\n",
       "     └───┘┌─┴─┐\n",
       "q_1: ─────┤ X ├\n",
       "          └───┘\n",
       "c: 2/══════════\n",
       "               </pre>"
      ],
      "text/plain": [
       "     ┌───┐     \n",
       "q_0: ┤ H ├──■──\n",
       "     └───┘┌─┴─┐\n",
       "q_1: ─────┤ X ├\n",
       "          └───┘\n",
       "c: 2/══════════\n",
       "               "
      ]
     },
     "metadata": {},
     "output_type": "display_data"
    },
    {
     "name": "stdout",
     "output_type": "stream",
     "text": [
      "{'00': (0.7071067811865475+0j), '11': (0.7071067811865475+0j)}\n"
     ]
    }
   ],
   "source": [
    "# (|00> + |11>)/sqrt(2)\n",
    "qc = QuantumCircuit(2, 2)\n",
    "qc.h(0)\n",
    "qc.cx(0, 1)\n",
    "\n",
    "display(qc.draw())\n",
    "state_vec = Statevector(qc).to_dict()\n",
    "print(state_vec)"
   ]
  },
  {
   "cell_type": "code",
   "execution_count": 3,
   "metadata": {},
   "outputs": [
    {
     "data": {
      "text/html": [
       "<pre style=\"word-wrap: normal;white-space: pre;background: #fff0;line-height: 1.1;font-family: &quot;Courier New&quot;,Courier,monospace\">     ┌───┐┌───┐     \n",
       "q_0: ┤ X ├┤ H ├──■──\n",
       "     └───┘└───┘┌─┴─┐\n",
       "q_1: ──────────┤ X ├\n",
       "               └───┘\n",
       "c: 2/═══════════════\n",
       "                    </pre>"
      ],
      "text/plain": [
       "     ┌───┐┌───┐     \n",
       "q_0: ┤ X ├┤ H ├──■──\n",
       "     └───┘└───┘┌─┴─┐\n",
       "q_1: ──────────┤ X ├\n",
       "               └───┘\n",
       "c: 2/═══════════════\n",
       "                    "
      ]
     },
     "metadata": {},
     "output_type": "display_data"
    },
    {
     "name": "stdout",
     "output_type": "stream",
     "text": [
      "{'00': (0.7071067811865475+0j), '11': (-0.7071067811865475+0j)}\n"
     ]
    }
   ],
   "source": [
    "# (|00> - |11>)/sqrt(2)\n",
    "qc = QuantumCircuit(2, 2)\n",
    "qc.x(0)\n",
    "qc.h(0)\n",
    "qc.cx(0, 1)\n",
    "\n",
    "display(qc.draw())\n",
    "state_vec = Statevector(qc).to_dict()\n",
    "print(state_vec)"
   ]
  },
  {
   "cell_type": "code",
   "execution_count": 4,
   "metadata": {},
   "outputs": [
    {
     "data": {
      "text/html": [
       "<pre style=\"word-wrap: normal;white-space: pre;background: #fff0;line-height: 1.1;font-family: &quot;Courier New&quot;,Courier,monospace\">     ┌───┐     \n",
       "q_0: ┤ H ├──■──\n",
       "     ├───┤┌─┴─┐\n",
       "q_1: ┤ X ├┤ X ├\n",
       "     └───┘└───┘\n",
       "c: 2/══════════\n",
       "               </pre>"
      ],
      "text/plain": [
       "     ┌───┐     \n",
       "q_0: ┤ H ├──■──\n",
       "     ├───┤┌─┴─┐\n",
       "q_1: ┤ X ├┤ X ├\n",
       "     └───┘└───┘\n",
       "c: 2/══════════\n",
       "               "
      ]
     },
     "metadata": {},
     "output_type": "display_data"
    },
    {
     "name": "stdout",
     "output_type": "stream",
     "text": [
      "{'01': (0.7071067811865475+0j), '10': (0.7071067811865475+0j)}\n"
     ]
    }
   ],
   "source": [
    "# (|01> + |10>)/sqrt(2)\n",
    "qc = QuantumCircuit(2, 2)\n",
    "qc.x(1)\n",
    "qc.h(0)\n",
    "qc.cx(0, 1)\n",
    "\n",
    "display(qc.draw())\n",
    "state_vec = Statevector(qc).to_dict()\n",
    "print(state_vec)"
   ]
  },
  {
   "cell_type": "code",
   "execution_count": 5,
   "metadata": {},
   "outputs": [
    {
     "data": {
      "text/html": [
       "<pre style=\"word-wrap: normal;white-space: pre;background: #fff0;line-height: 1.1;font-family: &quot;Courier New&quot;,Courier,monospace\">     ┌───┐┌───┐     \n",
       "q_0: ┤ X ├┤ H ├──■──\n",
       "     ├───┤└───┘┌─┴─┐\n",
       "q_1: ┤ X ├─────┤ X ├\n",
       "     └───┘     └───┘\n",
       "c: 2/═══════════════\n",
       "                    </pre>"
      ],
      "text/plain": [
       "     ┌───┐┌───┐     \n",
       "q_0: ┤ X ├┤ H ├──■──\n",
       "     ├───┤└───┘┌─┴─┐\n",
       "q_1: ┤ X ├─────┤ X ├\n",
       "     └───┘     └───┘\n",
       "c: 2/═══════════════\n",
       "                    "
      ]
     },
     "metadata": {},
     "output_type": "display_data"
    },
    {
     "name": "stdout",
     "output_type": "stream",
     "text": [
      "{'01': (-0.7071067811865475+0j), '10': (0.7071067811865475+0j)}\n"
     ]
    }
   ],
   "source": [
    "# (|01> - |10>)/sqrt(2)\n",
    "qc = QuantumCircuit(2, 2)\n",
    "qc.x([0, 1])\n",
    "qc.h(0)\n",
    "qc.cx(0, 1)\n",
    "\n",
    "display(qc.draw())\n",
    "state_vec = Statevector(qc).to_dict()\n",
    "print(state_vec)"
   ]
  },
  {
   "cell_type": "markdown",
   "metadata": {},
   "source": [
    "## 解説\n",
    "Bell状態またはEPR状態は、計算基底を初期状態として持つ2量子ビットの量子回路において、アダマールゲートと制御Xゲートを実行することで得られる。初期状態が$|00\\rangle$のケースを具体的に計算してみる。まずアダマールゲートを0番目の量子ビットに作用させると\n",
    "$$\n",
    "|00\\rangle \\to (|00\\rangle+|01\\rangle)/\\sqrt{2}\n",
    "$$\n",
    "が得られる。次に、0番目の量子ビットを制御ビットとする制御Xゲートを1番目の量子ビットに作用させると\n",
    "$$\n",
    "(|00\\rangle+|01\\rangle)/\\sqrt{2} \\to (|00\\rangle+|11\\rangle)/\\sqrt{2}\n",
    "$$\n",
    "となり、これが4種のBell状態のうちの一種である。残り3種のBell状態は、全く同じ操作を残り3種の初期状態すなわち$|01\\rangle$, $|10\\rangle$, $|11\\rangle$に対して行うことで得ることが出来る。実際に計算して確認してみて欲しい。\n",
    "\n",
    "Qiskitの量子回路クラス`QuantumCircuit`の量子ビットは初期状態が$|0\\rangle$である。これを$|1\\rangle$の状態にするには、Xゲートを作用させればよい。\n",
    "\n",
    "4番目のBell状態の出力結果は、求められている状態と比べてマイナス符号が全体に掛かっていることに読者は気が付いたかもしれない。これはグローバル位相であり、二つの状態は物理的には等価である。気になる場合には、`QuantumCircuit`のインスタンス作成時にグローバル位相を指定することでキャンセルすることもできる："
   ]
  },
  {
   "cell_type": "code",
   "execution_count": 7,
   "metadata": {},
   "outputs": [
    {
     "data": {
      "text/html": [
       "<pre style=\"word-wrap: normal;white-space: pre;background: #fff0;line-height: 1.1;font-family: &quot;Courier New&quot;,Courier,monospace\">global phase: π\n",
       "     ┌───┐┌───┐     \n",
       "q_0: ┤ X ├┤ H ├──■──\n",
       "     ├───┤└───┘┌─┴─┐\n",
       "q_1: ┤ X ├─────┤ X ├\n",
       "     └───┘     └───┘\n",
       "c: 2/═══════════════\n",
       "                    </pre>"
      ],
      "text/plain": [
       "global phase: π\n",
       "     ┌───┐┌───┐     \n",
       "q_0: ┤ X ├┤ H ├──■──\n",
       "     ├───┤└───┘┌─┴─┐\n",
       "q_1: ┤ X ├─────┤ X ├\n",
       "     └───┘     └───┘\n",
       "c: 2/═══════════════\n",
       "                    "
      ]
     },
     "metadata": {},
     "output_type": "display_data"
    },
    {
     "name": "stdout",
     "output_type": "stream",
     "text": [
      "{'01': (0.7071067811865475-8.659560562354932e-17j), '10': (-0.7071067811865475+8.659560562354932e-17j)}\n"
     ]
    }
   ],
   "source": [
    "# (|01> - |10>)/sqrt(2)\n",
    "qc = QuantumCircuit(2, 2, global_phase=np.pi)\n",
    "qc.x([0, 1])\n",
    "qc.h(0)\n",
    "qc.cx(0, 1)\n",
    "\n",
    "display(qc.draw())\n",
    "state_vec = Statevector(qc).to_dict()\n",
    "print(state_vec)"
   ]
  },
  {
   "cell_type": "markdown",
   "metadata": {},
   "source": [
    "## 参考資料\n",
    "- Pages 25-26 in Nielsen, M., & Chuang, I. (2010). Quantum Computation and Quantum Information: 10th Anniversary Edition. Cambridge: Cambridge University Press. doi:10.1017/CBO9780511976667"
   ]
  }
 ],
 "metadata": {
  "kernelspec": {
   "display_name": "Python 3",
   "language": "python",
   "name": "python3"
  },
  "language_info": {
   "codemirror_mode": {
    "name": "ipython",
    "version": 3
   },
   "file_extension": ".py",
   "mimetype": "text/x-python",
   "name": "python",
   "nbconvert_exporter": "python",
   "pygments_lexer": "ipython3",
   "version": "3.7.6"
  },
  "toc": {
   "base_numbering": 1,
   "nav_menu": {},
   "number_sections": false,
   "sideBar": true,
   "skip_h1_title": false,
   "title_cell": "Table of Contents",
   "title_sidebar": "Contents",
   "toc_cell": false,
   "toc_position": {},
   "toc_section_display": true,
   "toc_window_display": true
  }
 },
 "nbformat": 4,
 "nbformat_minor": 2
}
