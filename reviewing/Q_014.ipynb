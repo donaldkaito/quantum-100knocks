{
 "cells": [
  {
   "cell_type": "code",
   "execution_count": 1,
   "metadata": {},
   "outputs": [],
   "source": [
    "import numpy as np\n",
    "from qiskit import QuantumCircuit, Aer, transpile\n",
    "from qiskit.visualization import plot_bloch_multivector\n",
    "from qiskit.quantum_info import Statevector\n",
    "from IPython.display import display\n",
    "from qiskit.tools.visualization import plot_histogram\n",
    "\n",
    "sim = Aer.get_backend(\"aer_simulator\")"
   ]
  },
  {
   "cell_type": "markdown",
   "metadata": {},
   "source": [
    "\n",
    "# Q14 Xを2回作用させるとIとなることを行列計算とゲートの実行で確認せよ。Y, Z, Hについても同様に確認せよ。"
   ]
  },
  {
   "attachments": {},
   "cell_type": "markdown",
   "metadata": {},
   "source": [
    "## 解答"
   ]
  },
  {
   "cell_type": "code",
   "execution_count": 10,
   "metadata": {},
   "outputs": [
    {
     "name": "stdout",
     "output_type": "stream",
     "text": [
      "行列計算 X*X = \n",
      "[[1. 0.]\n",
      " [0. 1.]]\n",
      "ゲートの実行 X*X = \n",
      "[[1.+0.j 0.+0.j]\n",
      " [0.+0.j 1.+0.j]]\n"
     ]
    }
   ],
   "source": [
    "\"\"\"Xゲート\"\"\"\n",
    "# 行列計算\n",
    "# numpy ndarrayを用いて行列を定義\n",
    "x_matrix = np.array([[0., 1.], [1., 0.]])\n",
    "xx_matrix = np.matmul(x_matrix, x_matrix)\n",
    "print(f\"行列計算 X*X = \\n{xx_matrix}\")\n",
    "np.testing.assert_allclose(actual=xx_matrix, desired=np.identity(2), atol=1e-7)\n",
    "\n",
    "# ゲートの実行\n",
    "\n",
    "\n",
    "def get_circuit_as_unitary_op(qc):\n",
    "    \"\"\"量子回路をユニタリ行列として返す関数\"\"\"\n",
    "    unitary_sim = Aer.get_backend(\"unitary_simulator\")\n",
    "    unitary_op = unitary_sim.run(circuits=qc).result().get_unitary()\n",
    "    return unitary_op\n",
    "\n",
    "# 1量子ビットの量子回路を作成\n",
    "qc = QuantumCircuit(1)\n",
    "# Xゲートを二回連続で作用\n",
    "qc.x(qubit=0)\n",
    "qc.x(qubit=0)\n",
    "unitary_op = get_circuit_as_unitary_op(qc=qc)\n",
    "print(f\"ゲートの実行 X*X = \\n{unitary_op.data}\")\n",
    "np.testing.assert_allclose(actual=unitary_op, desired=np.identity(2), atol=1e-7)"
   ]
  },
  {
   "cell_type": "code",
   "execution_count": 11,
   "metadata": {},
   "outputs": [
    {
     "name": "stdout",
     "output_type": "stream",
     "text": [
      "行列計算 Y*Y = \n",
      "[[1.+0.j 0.+0.j]\n",
      " [0.+0.j 1.+0.j]]\n",
      "ゲートの実行 Y*Y = \n",
      "[[1.-0.j 0.-0.j]\n",
      " [0.+0.j 1.+0.j]]\n"
     ]
    }
   ],
   "source": [
    "\"\"\"Yゲート\"\"\"\n",
    "# 行列計算\n",
    "y_matrix = np.array([[0., -1j], [1j, 0.]])\n",
    "yy_matrix = np.matmul(y_matrix, y_matrix)\n",
    "print(f\"行列計算 Y*Y = \\n{yy_matrix}\")\n",
    "np.testing.assert_allclose(actual=yy_matrix, desired=np.identity(2), atol=1e-7)\n",
    "\n",
    "# ゲートの実行\n",
    "qc = QuantumCircuit(1)\n",
    "qc.y(qubit=0)\n",
    "qc.y(qubit=0)\n",
    "unitary_op = get_circuit_as_unitary_op(qc=qc)\n",
    "print(f\"ゲートの実行 Y*Y = \\n{unitary_op.data}\")\n",
    "np.testing.assert_allclose(actual=unitary_op, desired=np.identity(2), atol=1e-7)"
   ]
  },
  {
   "cell_type": "code",
   "execution_count": 12,
   "metadata": {},
   "outputs": [
    {
     "name": "stdout",
     "output_type": "stream",
     "text": [
      "行列計算 Z*Z = \n",
      "[[1. 0.]\n",
      " [0. 1.]]\n",
      "ゲートの実行 Z*Z = \n",
      "[[1.+0.j 0.+0.j]\n",
      " [0.-0.j 1.-0.j]]\n"
     ]
    }
   ],
   "source": [
    "\"\"\"Zゲート\"\"\"\n",
    "# 行列計算\n",
    "z_matrix = np.array([[1., 0.], [0., -1.]])\n",
    "zz_matrix = np.matmul(z_matrix, z_matrix)\n",
    "print(f\"行列計算 Z*Z = \\n{zz_matrix}\")\n",
    "np.testing.assert_allclose(actual=zz_matrix, desired=np.identity(2), atol=1e-7)\n",
    "\n",
    "# ゲートの実行\n",
    "qc = QuantumCircuit(1)\n",
    "qc.z(qubit=0)\n",
    "qc.z(qubit=0)\n",
    "unitary_op = get_circuit_as_unitary_op(qc=qc)\n",
    "print(f\"ゲートの実行 Z*Z = \\n{unitary_op.data}\")\n",
    "np.testing.assert_allclose(actual=unitary_op, desired=np.identity(2), atol=1e-7)"
   ]
  },
  {
   "cell_type": "code",
   "execution_count": 13,
   "metadata": {},
   "outputs": [
    {
     "name": "stdout",
     "output_type": "stream",
     "text": [
      "行列計算 H*H = \n",
      "[[ 1.00000000e+00 -2.23711432e-17]\n",
      " [-2.23711432e-17  1.00000000e+00]]\n",
      "ゲートの実行 H*H = \n",
      "[[1.-6.1232340e-17j 0.+6.1232340e-17j]\n",
      " [0.+6.1232340e-17j 1.-1.8369702e-16j]]\n"
     ]
    }
   ],
   "source": [
    "\"\"\"Hゲート\"\"\"\n",
    "# 行列計算\n",
    "h_matrix = np.array([[1., 1.], [1., -1.]]) / np.sqrt(2.)\n",
    "hh_matrix = np.matmul(h_matrix, h_matrix)\n",
    "print(f\"行列計算 H*H = \\n{hh_matrix}\")\n",
    "np.testing.assert_allclose(actual=hh_matrix, desired=np.identity(2), atol=1e-7)\n",
    "\n",
    "# ゲートの実行\n",
    "qc = QuantumCircuit(1)\n",
    "qc.h(qubit=0)\n",
    "qc.h(qubit=0)\n",
    "unitary_op = get_circuit_as_unitary_op(qc=qc)\n",
    "print(f\"ゲートの実行 H*H = \\n{unitary_op.data}\")\n",
    "np.testing.assert_allclose(actual=unitary_op, desired=np.identity(2), atol=1e-7)"
   ]
  },
  {
   "attachments": {},
   "cell_type": "markdown",
   "metadata": {},
   "source": [
    "## 解説\n",
    "パウリ行列とアダマール行列の共通の性質は、それらがユニタリ行列且つエルミート行列であることである。すなわち、$A^{\\dagger}A = I$（ユニタリ行列）、$A^{\\dagger}=A$（エルミート行列）を満たす。この二つの性質から、$AA=I$を満たすことを定性的にも示すことができる。\n",
    "\n",
    "一般にゲートとしての行列は、エルミート行列であることは求められない一方でユニタリ行列であることは求められる。これは、下記のように確率の保存から要請される。まず1量子ビットの任意の状態ベクトルを$|\\Psi \\rangle$とすると、確率の合計は1であることから\n",
    "$$\n",
    "\\sum_{i=\\alpha, \\beta} |\\langle i | \\Psi \\rangle|^2 = 1\n",
    "$$\n",
    "が要請される。ただし、$|i\\rangle\\ (i=\\alpha, \\beta)$は任意の正規直交基底とする。あるゲート$U$を作用させた状態 $|\\Psi^{\\prime} \\rangle = U |\\Psi \\rangle$もこの関係式を満たすべきであり、\n",
    "$$\n",
    "\\sum_{i=\\alpha, \\beta} |\\langle i | \\Psi^{\\prime} \\rangle|^2 = \\sum_{i=\\alpha, \\beta} |\\langle i | U | \\Psi \\rangle|^2 = \\sum_{i=\\alpha, \\beta} \\langle \\Psi | U^{\\dagger} |i \\rangle \\langle i | U | \\Psi \\rangle = \\langle \\Psi | U^{\\dagger} U | \\Psi \\rangle\n",
    "$$\n",
    "上式の最右の項が常に1となるには、$U^{\\dagger}U = I$を満たす必要がある。\n",
    "\n",
    "## 参考資料\n",
    "- Qiskitテキストブック https://qiskit.org/textbook/ja/ch-states/single-qubit-gates.html#1.-%E3%83%91%E3%82%A6%E3%83%AA%E3%82%B2%E3%83%BC%E3%83%88-\n",
    "- Qiskitテキストブック https://qiskit.org/textbook/ja/ch-gates/proving-universality.html#2.2-%E3%83%A6%E3%83%8B%E3%82%BF%E3%83%AA%E3%83%BC%E8%A1%8C%E5%88%97%E3%81%A8%E3%82%A8%E3%83%AB%E3%83%9F%E3%83%BC%E3%83%88%E8%A1%8C%E5%88%97-"
   ]
  }
 ],
 "metadata": {
  "kernelspec": {
   "display_name": "toys",
   "language": "python",
   "name": "toys"
  },
  "language_info": {
   "codemirror_mode": {
    "name": "ipython",
    "version": 3
   },
   "file_extension": ".py",
   "mimetype": "text/x-python",
   "name": "python",
   "nbconvert_exporter": "python",
   "pygments_lexer": "ipython3",
   "version": "3.8.13"
  },
  "toc": {
   "base_numbering": 1,
   "nav_menu": {},
   "number_sections": false,
   "sideBar": true,
   "skip_h1_title": false,
   "title_cell": "Table of Contents",
   "title_sidebar": "Contents",
   "toc_cell": false,
   "toc_position": {},
   "toc_section_display": true,
   "toc_window_display": true
  }
 },
 "nbformat": 4,
 "nbformat_minor": 2
}
