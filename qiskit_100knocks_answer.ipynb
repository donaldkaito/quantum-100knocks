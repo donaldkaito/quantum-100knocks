{
 "cells": [
  {
   "cell_type": "code",
   "execution_count": 1,
   "metadata": {},
   "outputs": [],
   "source": [
    "import numpy as np\n",
    "from qiskit import QuantumCircuit, Aer, transpile\n",
    "from qiskit.visualization import plot_bloch_multivector\n",
    "from qiskit.quantum_info import Statevector\n",
    "from IPython.display import display\n",
    "from qiskit.tools.visualization import plot_histogram\n",
    "\n",
    "sim = Aer.get_backend(\"aer_simulator\")"
   ]
  },
  {
   "attachments": {},
   "cell_type": "markdown",
   "metadata": {},
   "source": [
    "# Q4 通常の測定(Z測定)では$|+\\rangle$状態と$|-\\rangle$状態の区別をすることができない。この２つの状態を区別できる測定基底を作成せよ。"
   ]
  },
  {
   "attachments": {},
   "cell_type": "markdown",
   "metadata": {},
   "source": [
    "## 解説\n",
    "まず、通常の測定(Z測定)では$|+\\rangle$状態と$|-\\rangle$状態の区別をすることができないことは、下記のように確認できる。\n",
    "$|+\\rangle$状態と$|-\\rangle$状態を、通常の測定に採用されている基底状態、すなわち$Z$の固有状態を用いて展開すると\n",
    "$$\n",
    "|+\\rangle = (|0\\rangle+|1\\rangle)/\\sqrt{2},\\ \\ |-\\rangle = (|0\\rangle-|1\\rangle)/\\sqrt{2}\n",
    "$$\n",
    "と書くことができる。基底状態に掛かる係数の絶対値の二乗が、その基底状態の測定確率を表すことを思い出してほしい。$|+\\rangle$状態を測定すると、$1/2$の確率で$|0\\rangle$状態が、$1/2$の確率で$|1\\rangle$状態が出力される。同様に$|-\\rangle$状態を測定すると、$1/2$の確率で$|0\\rangle$状態が、$1/2$の確率で$|1\\rangle$状態が出力される。すなわち、$|+\\rangle$と$|-\\rangle$の両状態において、等確率で$|0\\rangle$と$|1\\rangle$の状態が測定の結果として得られる。このことから、一回のみの測定に限らず、無数に測定を行っても、両状態を区別できないことが分かる。\n",
    "\n",
    "$|+\\rangle$状態と$|-\\rangle$状態は互いに直交するため、測定の基底を上手く選ぶことで一度の測定で区別することができる。ここでは、測定の基底そのものを変更するのではなく、測定の直前に測定対象の状態を操作することで、同じ効果を得るアプローチを示す。やや天下りにはなるが、測定の直前にアダマールゲートを実行すればよい。$|+\\rangle$状態と$|-\\rangle$状態はそれぞれ\n",
    "$$\n",
    "H |+\\rangle = |0\\rangle, \\ \\ H |-\\rangle = |1\\rangle\n",
    "$$\n",
    "となり、元々$|+\\rangle$であった状態からは100%の確率で$|0\\rangle$が出力されて、元々$|-\\rangle$であった状態からは100%の確率で$|1\\rangle$が出力されることが分かる。\n",
    "\n",
    "## 参考資料\n",
    "- Pages 22, 56-57 and 84-87 in Nielsen, M., & Chuang, I. (2010). Quantum Computation and Quantum Information: 10th Anniversary Edition. Cambridge: Cambridge University Press. doi:10.1017/CBO9780511976667\n"
   ]
  },
  {
   "attachments": {},
   "cell_type": "markdown",
   "metadata": {},
   "source": [
    "# Q9  4種のbell状態|00>+|11>, |00>-|11>, |01>+|10>, |01>-|10>をそれぞれ作成せよ。"
   ]
  },
  {
   "attachments": {},
   "cell_type": "markdown",
   "metadata": {},
   "source": [
    "## 解答"
   ]
  },
  {
   "cell_type": "code",
   "execution_count": 2,
   "metadata": {},
   "outputs": [
    {
     "data": {
      "text/html": [
       "<pre style=\"word-wrap: normal;white-space: pre;background: #fff0;line-height: 1.1;font-family: &quot;Courier New&quot;,Courier,monospace\">     ┌───┐     \n",
       "q_0: ┤ H ├──■──\n",
       "     └───┘┌─┴─┐\n",
       "q_1: ─────┤ X ├\n",
       "          └───┘\n",
       "c: 2/══════════\n",
       "               </pre>"
      ],
      "text/plain": [
       "     ┌───┐     \n",
       "q_0: ┤ H ├──■──\n",
       "     └───┘┌─┴─┐\n",
       "q_1: ─────┤ X ├\n",
       "          └───┘\n",
       "c: 2/══════════\n",
       "               "
      ]
     },
     "metadata": {},
     "output_type": "display_data"
    },
    {
     "name": "stdout",
     "output_type": "stream",
     "text": [
      "{'00': (0.7071067811865475+0j), '11': (0.7071067811865475+0j)}\n"
     ]
    }
   ],
   "source": [
    "# (|00> + |11>)/sqrt(2)\n",
    "qc = QuantumCircuit(2, 2)\n",
    "qc.h(0)\n",
    "qc.cx(0, 1)\n",
    "\n",
    "display(qc.draw())\n",
    "state_vec = Statevector(qc).to_dict()\n",
    "print(state_vec)"
   ]
  },
  {
   "cell_type": "code",
   "execution_count": 3,
   "metadata": {},
   "outputs": [
    {
     "data": {
      "text/html": [
       "<pre style=\"word-wrap: normal;white-space: pre;background: #fff0;line-height: 1.1;font-family: &quot;Courier New&quot;,Courier,monospace\">     ┌───┐┌───┐     \n",
       "q_0: ┤ X ├┤ H ├──■──\n",
       "     └───┘└───┘┌─┴─┐\n",
       "q_1: ──────────┤ X ├\n",
       "               └───┘\n",
       "c: 2/═══════════════\n",
       "                    </pre>"
      ],
      "text/plain": [
       "     ┌───┐┌───┐     \n",
       "q_0: ┤ X ├┤ H ├──■──\n",
       "     └───┘└───┘┌─┴─┐\n",
       "q_1: ──────────┤ X ├\n",
       "               └───┘\n",
       "c: 2/═══════════════\n",
       "                    "
      ]
     },
     "metadata": {},
     "output_type": "display_data"
    },
    {
     "name": "stdout",
     "output_type": "stream",
     "text": [
      "{'00': (0.7071067811865475+0j), '11': (-0.7071067811865475+0j)}\n"
     ]
    }
   ],
   "source": [
    "# (|00> - |11>)/sqrt(2)\n",
    "qc = QuantumCircuit(2, 2)\n",
    "qc.x(0)\n",
    "qc.h(0)\n",
    "qc.cx(0, 1)\n",
    "\n",
    "display(qc.draw())\n",
    "state_vec = Statevector(qc).to_dict()\n",
    "print(state_vec)"
   ]
  },
  {
   "cell_type": "code",
   "execution_count": 4,
   "metadata": {},
   "outputs": [
    {
     "data": {
      "text/html": [
       "<pre style=\"word-wrap: normal;white-space: pre;background: #fff0;line-height: 1.1;font-family: &quot;Courier New&quot;,Courier,monospace\">     ┌───┐     \n",
       "q_0: ┤ H ├──■──\n",
       "     ├───┤┌─┴─┐\n",
       "q_1: ┤ X ├┤ X ├\n",
       "     └───┘└───┘\n",
       "c: 2/══════════\n",
       "               </pre>"
      ],
      "text/plain": [
       "     ┌───┐     \n",
       "q_0: ┤ H ├──■──\n",
       "     ├───┤┌─┴─┐\n",
       "q_1: ┤ X ├┤ X ├\n",
       "     └───┘└───┘\n",
       "c: 2/══════════\n",
       "               "
      ]
     },
     "metadata": {},
     "output_type": "display_data"
    },
    {
     "name": "stdout",
     "output_type": "stream",
     "text": [
      "{'01': (0.7071067811865475+0j), '10': (0.7071067811865475+0j)}\n"
     ]
    }
   ],
   "source": [
    "# (|01> + |10>)/sqrt(2)\n",
    "qc = QuantumCircuit(2, 2)\n",
    "qc.x(1)\n",
    "qc.h(0)\n",
    "qc.cx(0, 1)\n",
    "\n",
    "display(qc.draw())\n",
    "state_vec = Statevector(qc).to_dict()\n",
    "print(state_vec)"
   ]
  },
  {
   "cell_type": "code",
   "execution_count": 5,
   "metadata": {},
   "outputs": [
    {
     "data": {
      "text/html": [
       "<pre style=\"word-wrap: normal;white-space: pre;background: #fff0;line-height: 1.1;font-family: &quot;Courier New&quot;,Courier,monospace\">     ┌───┐┌───┐     \n",
       "q_0: ┤ X ├┤ H ├──■──\n",
       "     ├───┤└───┘┌─┴─┐\n",
       "q_1: ┤ X ├─────┤ X ├\n",
       "     └───┘     └───┘\n",
       "c: 2/═══════════════\n",
       "                    </pre>"
      ],
      "text/plain": [
       "     ┌───┐┌───┐     \n",
       "q_0: ┤ X ├┤ H ├──■──\n",
       "     ├───┤└───┘┌─┴─┐\n",
       "q_1: ┤ X ├─────┤ X ├\n",
       "     └───┘     └───┘\n",
       "c: 2/═══════════════\n",
       "                    "
      ]
     },
     "metadata": {},
     "output_type": "display_data"
    },
    {
     "name": "stdout",
     "output_type": "stream",
     "text": [
      "{'01': (-0.7071067811865475+0j), '10': (0.7071067811865475+0j)}\n"
     ]
    }
   ],
   "source": [
    "# (|01> - |10>)/sqrt(2)\n",
    "qc = QuantumCircuit(2, 2)\n",
    "qc.x([0, 1])\n",
    "qc.h(0)\n",
    "qc.cx(0, 1)\n",
    "\n",
    "display(qc.draw())\n",
    "state_vec = Statevector(qc).to_dict()\n",
    "print(state_vec)"
   ]
  },
  {
   "attachments": {},
   "cell_type": "markdown",
   "metadata": {},
   "source": [
    "## 解説\n",
    "Bell状態またはEPR状態は、計算基底を初期状態として持つ2量子ビットの量子回路において、アダマールゲートと制御Xゲートを実行することで得られる。初期状態が$|00\\rangle$のケースを具体的に計算してみる。まずアダマールゲートを0番目の量子ビットに作用させると\n",
    "$$\n",
    "|00\\rangle \\to (|00\\rangle+|01\\rangle)/\\sqrt{2}\n",
    "$$\n",
    "が得られる。次に、0番目の量子ビットを制御ビットとする制御Xゲートを1番目の量子ビットに作用させると\n",
    "$$\n",
    "(|00\\rangle+|01\\rangle)/\\sqrt{2} \\to (|00\\rangle+|11\\rangle)/\\sqrt{2}\n",
    "$$\n",
    "となり、これが4種のBell状態のうちの一種である。残り3種のBell状態は、全く同じ操作を残り3種の初期状態すなわち$|01\\rangle$, $|10\\rangle$, $|11\\rangle$に対して行うことで得ることが出来る。実際に計算して確認してみて欲しい。\n",
    "\n",
    "Qiskitの量子回路クラス`QuantumCircuit`の量子ビットは初期状態が$|0\\rangle$である。これを$|1\\rangle$の状態にするには、Xゲートを作用させればよい。\n",
    "\n",
    "4番目のBell状態の出力結果は、求められている状態と比べてマイナス符号が全体に掛かっていることに読者は気が付いたかもしれない。これはグローバル位相であり、二つの状態は物理的には等価である。気になる場合には、`QuantumCircuit`のインスタンス作成時にグローバル位相を指定することでキャンセルすることもできる："
   ]
  },
  {
   "cell_type": "code",
   "execution_count": 7,
   "metadata": {},
   "outputs": [
    {
     "data": {
      "text/html": [
       "<pre style=\"word-wrap: normal;white-space: pre;background: #fff0;line-height: 1.1;font-family: &quot;Courier New&quot;,Courier,monospace\">global phase: π\n",
       "     ┌───┐┌───┐     \n",
       "q_0: ┤ X ├┤ H ├──■──\n",
       "     ├───┤└───┘┌─┴─┐\n",
       "q_1: ┤ X ├─────┤ X ├\n",
       "     └───┘     └───┘\n",
       "c: 2/═══════════════\n",
       "                    </pre>"
      ],
      "text/plain": [
       "global phase: π\n",
       "     ┌───┐┌───┐     \n",
       "q_0: ┤ X ├┤ H ├──■──\n",
       "     ├───┤└───┘┌─┴─┐\n",
       "q_1: ┤ X ├─────┤ X ├\n",
       "     └───┘     └───┘\n",
       "c: 2/═══════════════\n",
       "                    "
      ]
     },
     "metadata": {},
     "output_type": "display_data"
    },
    {
     "name": "stdout",
     "output_type": "stream",
     "text": [
      "{'01': (0.7071067811865475-8.659560562354932e-17j), '10': (-0.7071067811865475+8.659560562354932e-17j)}\n"
     ]
    }
   ],
   "source": [
    "# (|01> - |10>)/sqrt(2)\n",
    "qc = QuantumCircuit(2, 2, global_phase=np.pi)\n",
    "qc.x([0, 1])\n",
    "qc.h(0)\n",
    "qc.cx(0, 1)\n",
    "\n",
    "display(qc.draw())\n",
    "state_vec = Statevector(qc).to_dict()\n",
    "print(state_vec)"
   ]
  },
  {
   "cell_type": "markdown",
   "metadata": {},
   "source": [
    "## 参考資料\n",
    "- Pages 25-26 in Nielsen, M., & Chuang, I. (2010). Quantum Computation and Quantum Information: 10th Anniversary Edition. Cambridge: Cambridge University Press. doi:10.1017/CBO9780511976667"
   ]
  },
  {
   "cell_type": "markdown",
   "metadata": {},
   "source": [
    "# Q10  前問の結果を測定した場合、0と1を測定する確率はそれぞれ理論的にはいくつになるか。また実際に測定して理論値と比較してみよ。"
   ]
  },
  {
   "attachments": {},
   "cell_type": "markdown",
   "metadata": {},
   "source": [
    "## 解答"
   ]
  },
  {
   "cell_type": "code",
   "execution_count": 11,
   "metadata": {},
   "outputs": [
    {
     "name": "stdout",
     "output_type": "stream",
     "text": [
      "(|00>+|11>)/sqrt(2)\n",
      "Bitstring 00: Expected observation prob. = 0.5\n",
      "Bitstring 11: Expected observation prob. = 0.5\n",
      "Bitstring 11: Actual observation prob. = 0.5\n",
      "Bitstring 00: Actual observation prob. = 0.5\n",
      "(|00>-|11>)/sqrt(2)\n",
      "Bitstring 00: Expected observation prob. = 0.5\n",
      "Bitstring 11: Expected observation prob. = 0.5\n",
      "Bitstring 11: Actual observation prob. = 0.5\n",
      "Bitstring 00: Actual observation prob. = 0.5\n",
      "(|01>+|10>)/sqrt(2)\n",
      "Bitstring 01: Expected observation prob. = 0.5\n",
      "Bitstring 10: Expected observation prob. = 0.5\n",
      "Bitstring 10: Actual observation prob. = 0.5\n",
      "Bitstring 01: Actual observation prob. = 0.5\n",
      "(|01>-|10>)/sqrt(2)\n",
      "Bitstring 01: Expected observation prob. = 0.5\n",
      "Bitstring 10: Expected observation prob. = 0.5\n",
      "Bitstring 10: Actual observation prob. = 0.5\n",
      "Bitstring 01: Actual observation prob. = 0.5\n"
     ]
    }
   ],
   "source": [
    "bell_state_to_init_state = {\n",
    "    \"(|00>+|11>)/sqrt(2)\": [],\n",
    "    \"(|00>-|11>)/sqrt(2)\": [0],\n",
    "    \"(|01>+|10>)/sqrt(2)\": [1],\n",
    "    \"(|01>-|10>)/sqrt(2)\": [0, 1]\n",
    "}\n",
    "\n",
    "for bell_state, init_state in bell_state_to_init_state.items():\n",
    "    print(bell_state)\n",
    "    qc = QuantumCircuit(2, 2)\n",
    "    for i in init_state:\n",
    "        qc.x(i)\n",
    "    qc.h(0)\n",
    "    qc.cx(0, 1)\n",
    "    state_vec = Statevector(qc).to_dict()\n",
    "\n",
    "    for bitstring, wave_func in state_vec.items():\n",
    "        prob = wave_func.real**2 + wave_func.imag**2\n",
    "        print(f\"Bitstring {bitstring}: \"\n",
    "              f\"Expected observation prob. = {np.round(prob, 8)}\")\n",
    "\n",
    "    qc.measure([0, 1], [0, 1])\n",
    "    shots = 100000\n",
    "    counts = sim.run(qc, shots=shots).result().get_counts()\n",
    "    for bitstring, count in counts.items():\n",
    "        print(f\"Bitstring {bitstring}: \"\n",
    "              f\"Actual observation prob. = {np.round(count/shots, 2)}\")"
   ]
  },
  {
   "attachments": {},
   "cell_type": "markdown",
   "metadata": {},
   "source": [
    "## 解説\n",
    "基底状態すなわち$|0\\rangle$および$|1\\rangle$に掛かる係数の絶対値の二乗が、その基底状態の測定確率を表す。Bell状態の1つである$(|00\\rangle+|11\\rangle)/\\sqrt{2}$を具体的に見てみると、$|00\\rangle$と$|11\\rangle$に掛かる係数は共通の$1/\\sqrt{2}$である。故に、$|00\\rangle$と$|11\\rangle$が出力される確率は共通の$|1/\\sqrt{2}|^2 = 0.5$であると理論的に予測できる。\n",
    "\n",
    "これを実際に測定して確認するには、測定を複数回行い、$|00\\rangle$および$|11\\rangle$が出力される回数をカウントして、それを測定の回数で割ればよい。測定の回数(=shots)が十分に大きければ、0.5に収束することを確認できる。"
   ]
  },
  {
   "attachments": {},
   "cell_type": "markdown",
   "metadata": {},
   "source": [
    "# Q11 GHZ状態(3量子ビットのもつれ)について、前問と同様に確認せよ。"
   ]
  },
  {
   "attachments": {},
   "cell_type": "markdown",
   "metadata": {},
   "source": [
    "## 解答"
   ]
  },
  {
   "cell_type": "code",
   "execution_count": 25,
   "metadata": {},
   "outputs": [
    {
     "name": "stdout",
     "output_type": "stream",
     "text": [
      "Bitstring 000: Expected observation prob. = 0.5\n",
      "Bitstring 111: Expected observation prob. = 0.5\n",
      "Bitstring 000: Actual observation prob. = 0.5\n",
      "Bitstring 111: Actual observation prob. = 0.5\n"
     ]
    }
   ],
   "source": [
    "qc = QuantumCircuit(3, 3)\n",
    "qc.h(0)\n",
    "qc.cx(0, 1)\n",
    "qc.cx(1, 2)\n",
    "state_vec = Statevector(qc).to_dict()\n",
    "\n",
    "for bitstring, wave_func in state_vec.items():\n",
    "    prob = wave_func.real**2 + wave_func.imag**2\n",
    "    print(f\"Bitstring {bitstring}: \"\n",
    "          f\"Expected observation prob. = {np.round(prob, 8)}\")\n",
    "\n",
    "qc.measure([0, 1, 2], [0, 1, 2])\n",
    "shots = 100000\n",
    "counts = sim.run(qc, shots=shots).result().get_counts()\n",
    "for bitstring, count in counts.items():\n",
    "    print(f\"Bitstring {bitstring}: \"\n",
    "          f\"Actual observation prob. = {np.round(count/shots, 2)}\")"
   ]
  },
  {
   "attachments": {},
   "cell_type": "markdown",
   "metadata": {},
   "source": [
    "## 解説\n",
    "3量子ビットのGHZ状態は、3量子ビットの量子回路において、アダマールゲートと制御Xゲートを実行することで得られる。初期状態が$|000\\rangle$のケースを具体的に計算してみる。まずアダマールゲートを0番目の量子ビットに作用させると\n",
    "$$\n",
    "|000\\rangle \\to (|000\\rangle+|001\\rangle)/\\sqrt{2}\n",
    "$$\n",
    "が得られる。次に、0番目の量子ビットを制御ビットとする制御Xゲートを1番目の量子ビットに作用させると\n",
    "$$\n",
    "(|000\\rangle+|001\\rangle)/\\sqrt{2} \\to (|000\\rangle+|011\\rangle)/\\sqrt{2}\n",
    "$$\n",
    "が得られる。最後に、1番目の量子ビットを制御ビットとする制御Xゲートを2番目の量子ビットに作用させると\n",
    "$$\n",
    "(|000\\rangle+|011\\rangle)/\\sqrt{2} \\to (|000\\rangle+|111\\rangle)/\\sqrt{2}\n",
    "$$\n",
    "となり、これが3量子ビットのGHZ状態である。測定確率の理論的な導出方法と実際の測定確率の確認方法は前問と同じである。\n",
    "\n",
    "## 参考資料\n",
    "- Qiskitチュートリアル https://qiskit.org/documentation/locale/ja_JP/tutorials/circuits/01_circuit_basics.html#%E5%9B%9E%E7%B7%9A%E3%81%AE%E6%A7%8B%E7%AF%89"
   ]
  },
  {
   "attachments": {},
   "cell_type": "markdown",
   "metadata": {},
   "source": [
    "# Q12 前問にエラーがあった場合どのようになるか、Qiskitのエラーモデルを用いて確認せよ。"
   ]
  },
  {
   "attachments": {},
   "cell_type": "markdown",
   "metadata": {},
   "source": [
    "## 解答"
   ]
  },
  {
   "cell_type": "code",
   "execution_count": 4,
   "metadata": {},
   "outputs": [
    {
     "name": "stdout",
     "output_type": "stream",
     "text": [
      "Bitstring 010: Actual observation prob. = 0.01\n",
      "Bitstring 011: Actual observation prob. = 0.01\n",
      "Bitstring 111: Actual observation prob. = 0.46\n",
      "Bitstring 000: Actual observation prob. = 0.46\n",
      "Bitstring 001: Actual observation prob. = 0.02\n",
      "Bitstring 101: Actual observation prob. = 0.01\n",
      "Bitstring 110: Actual observation prob. = 0.02\n",
      "Bitstring 100: Actual observation prob. = 0.01\n"
     ]
    },
    {
     "data": {
      "image/png": "[encoded data removed]",
      "text/plain": [
       "<Figure size 700x500 with 1 Axes>"
      ]
     },
     "execution_count": 4,
     "metadata": {},
     "output_type": "execute_result"
    }
   ],
   "source": [
    "from qiskit_aer.noise import NoiseModel, pauli_error\n",
    "\n",
    "qc = QuantumCircuit(3, 3)\n",
    "qc.h(0)\n",
    "qc.cx(0, 1)\n",
    "qc.cx(1, 2)\n",
    "qc.measure([0, 1, 2], [0, 1, 2])\n",
    "\n",
    "\n",
    "def create_noise_model(p_err: float) -> NoiseModel:\n",
    "    \"\"\"シミュレーション用のカスタムノイズモデルを返す関数\"\"\"\n",
    "    noise_model = NoiseModel()\n",
    "    bit_flip_err_1_qubit = pauli_error([('X', p_err), ('I', 1 - p_err)])\n",
    "    bit_flip_err_2_qubit = bit_flip_err_1_qubit.tensor(bit_flip_err_1_qubit)\n",
    "    noise_model.add_all_qubit_quantum_error(\n",
    "        error=bit_flip_err_1_qubit,\n",
    "        instructions=[\"rz\", \"sx\"]\n",
    "    )\n",
    "    noise_model.add_all_qubit_quantum_error(\n",
    "        error=bit_flip_err_2_qubit,\n",
    "        instructions=[\"cx\"]\n",
    "    )\n",
    "    return noise_model\n",
    "\n",
    "\n",
    "noise_model = create_noise_model(p_err=0.02)\n",
    "qc_transpiled = transpile(circuits=qc, basis_gates=noise_model.basis_gates)\n",
    "\n",
    "shots = 100000\n",
    "counts = sim.run(qc_transpiled,\n",
    "                 shots=shots,\n",
    "                 noise_model=noise_model).result().get_counts()\n",
    "for bitstring, count in counts.items():\n",
    "    print(f\"Bitstring {bitstring}: \"\n",
    "          f\"Actual observation prob. = {np.round(count/shots, 2)}\")\n",
    "\n",
    "plot_histogram(counts)"
   ]
  },
  {
   "attachments": {},
   "cell_type": "markdown",
   "metadata": {},
   "source": [
    "## 解説\n",
    "量子ビットとして物理的な量子ビットを想定している限り、環境との相互作用等による量子ビットの汚染すなわち量子エラーは避けられない。Qiskitの`NoiseModel`を使うことで、量子エラーの発生をモデル化し、シミュレーションすることが出来る。量子エラーの発生箇所としては複数箇所検討することができる。ここでは、例としてゲート実行直後のビットフリップのみをモデル化している。具体的には、ネイティブゲートが実行される度に`p_err`の確率でXゲートを作用させる。結果としては、ビットフリップの発生により$|000\\rangle$および$|111\\rangle$以外の状態が測定される。\n",
    "\n",
    "以下では簡単な1量子ビットの量子回路と`p_err=0.1`のノイズモデルを用いてノイズモデルの振る舞いをもう少し詳細に確認してみる。"
   ]
  },
  {
   "cell_type": "code",
   "execution_count": 5,
   "metadata": {},
   "outputs": [
    {
     "name": "stdout",
     "output_type": "stream",
     "text": [
      "NoiseModel:\n",
      "  Basis gates: ['cx', 'id', 'rz', 'sx']\n",
      "  Instructions with noise: ['sx', 'cx', 'rz']\n",
      "  All-qubits errors: ['rz', 'sx', 'cx']\n"
     ]
    },
    {
     "data": {
      "text/html": [
       "<pre style=\"word-wrap: normal;white-space: pre;background: #fff0;line-height: 1.1;font-family: &quot;Courier New&quot;,Courier,monospace\">     ┌────┐┌────┐┌─┐\n",
       "  q: ┤ √X ├┤ √X ├┤M├\n",
       "     └────┘└────┘└╥┘\n",
       "c: 1/═════════════╩═\n",
       "                  0 </pre>"
      ],
      "text/plain": [
       "     ┌────┐┌────┐┌─┐\n",
       "  q: ┤ √X ├┤ √X ├┤M├\n",
       "     └────┘└────┘└╥┘\n",
       "c: 1/═════════════╩═\n",
       "                  0 "
      ]
     },
     "metadata": {},
     "output_type": "display_data"
    },
    {
     "name": "stdout",
     "output_type": "stream",
     "text": [
      "Bitstring 0: Actual observation prob. = 0.18\n",
      "Bitstring 1: Actual observation prob. = 0.82\n"
     ]
    }
   ],
   "source": [
    "noise_model = create_noise_model(p_err=0.1)\n",
    "print(noise_model)\n",
    "\n",
    "qc = QuantumCircuit(1, 1)\n",
    "qc.x(0)\n",
    "qc.measure(0, 0)\n",
    "\n",
    "qc_transpiled = transpile(circuits=qc, basis_gates=noise_model.basis_gates)\n",
    "display(qc_transpiled.draw())\n",
    "\n",
    "shots = 100000\n",
    "counts = sim.run(qc_transpiled,\n",
    "                 shots=shots,\n",
    "                 noise_model=noise_model).result().get_counts()\n",
    "for bitstring, count in counts.items():\n",
    "    print(f\"Bitstring {bitstring}: \"\n",
    "          f\"Actual observation prob. = {np.round(count/shots, 2)}\")"
   ]
  },
  {
   "attachments": {},
   "cell_type": "markdown",
   "metadata": {},
   "source": [
    "測定の結果18%の確率でビットフリップが発生していることが分かる。ネイティブゲートであるSXゲートが実行される度に`p_err`の確率でXゲートが実行されるため、回路全体としてビットフリップが発生する確率は`2*p_err*(1-p_err)`から計算できる。`p_err=0.1`の場合にはこの確率は18%となり、測定の結果と一致する。\n",
    "\n",
    "## 参考資料\n",
    "- Qiskitチュートリアル https://qiskit.org/documentation/tutorials/simulators/3_building_noise_models.html"
   ]
  },
  {
   "cell_type": "markdown",
   "metadata": {},
   "source": []
  }
 ],
 "metadata": {
  "kernelspec": {
   "display_name": "toys",
   "language": "python",
   "name": "toys"
  },
  "language_info": {
   "codemirror_mode": {
    "name": "ipython",
    "version": 3
   },
   "file_extension": ".py",
   "mimetype": "text/x-python",
   "name": "python",
   "nbconvert_exporter": "python",
   "pygments_lexer": "ipython3",
   "version": "3.8.13"
  },
  "orig_nbformat": 4
 },
 "nbformat": 4,
 "nbformat_minor": 2
}
