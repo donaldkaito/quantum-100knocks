{
 "cells": [
  {
   "cell_type": "code",
   "execution_count": 1,
   "metadata": {},
   "outputs": [],
   "source": [
    "import numpy as np\n",
    "from qiskit import QuantumCircuit, Aer\n",
    "from qiskit.visualization import plot_bloch_multivector\n",
    "from qiskit.quantum_info import Statevector\n",
    "from IPython.display import display\n",
    "\n",
    "sim = Aer.get_backend(\"aer_simulator\")"
   ]
  },
  {
   "attachments": {},
   "cell_type": "markdown",
   "metadata": {},
   "source": [
    "# Q4 通常の測定(Z測定)では$|+\\rangle$状態と$|-\\rangle$状態の区別をすることができない。この２つの状態を区別できる測定基底を作成せよ。"
   ]
  },
  {
   "attachments": {},
   "cell_type": "markdown",
   "metadata": {},
   "source": [
    "## 解説\n",
    "まず、通常の測定(Z測定)では$|+\\rangle$状態と$|-\\rangle$状態の区別をすることができないことは、下記のように確認できる。\n",
    "$|+\\rangle$状態と$|-\\rangle$状態を、通常の測定に採用されている基底状態、すなわち$Z$の固有状態を用いて展開すると\n",
    "$$\n",
    "|+\\rangle = (|0\\rangle+|1\\rangle)/\\sqrt{2},\\ \\ |-\\rangle = (|0\\rangle-|1\\rangle)/\\sqrt{2}\n",
    "$$\n",
    "と書くことができる。基底状態に掛かる係数の絶対値の二乗が、その基底状態の測定確率を表すことを思い出してほしい。$|+\\rangle$状態を測定すると、$1/2$の確率で$|0\\rangle$状態が、$1/2$の確率で$|1\\rangle$状態が出力される。同様に$|-\\rangle$状態を測定すると、$1/2$の確率で$|0\\rangle$状態が、$1/2$の確率で$|1\\rangle$状態が出力される。すなわち、$|+\\rangle$と$|-\\rangle$の両状態において、等確率で$|0\\rangle$と$|1\\rangle$の状態が測定の結果として得られる。このことから、一回のみの測定に限らず、無数に測定を行っても、両状態を区別できないことが分かる。\n",
    "\n",
    "$|+\\rangle$状態と$|-\\rangle$状態は互いに直交するため、測定の基底を上手く選ぶことで一度の測定で区別することができる。ここでは、測定の基底そのものを変更するのではなく、測定の直前に測定対象の状態を操作することで、同じ効果を得るアプローチを示す。やや天下りにはなるが、測定の直前にアダマールゲートを実行すればよい。$|+\\rangle$状態と$|-\\rangle$状態はそれぞれ\n",
    "$$\n",
    "H |+\\rangle = |0\\rangle, \\ \\ H |-\\rangle = |1\\rangle\n",
    "$$\n",
    "となり、元々$|+\\rangle$であった状態からは100%の確率で$|0\\rangle$が出力されて、元々$|-\\rangle$であった状態からは100%の確率で$|1\\rangle$が出力されることが分かる。\n",
    "\n",
    "## 参考資料\n",
    "- Pages 22, 56-57 and 84-87 in Nielsen, M., & Chuang, I. (2010). Quantum Computation and Quantum Information: 10th Anniversary Edition. Cambridge: Cambridge University Press. doi:10.1017/CBO9780511976667\n"
   ]
  },
  {
   "attachments": {},
   "cell_type": "markdown",
   "metadata": {},
   "source": [
    "# Q9  4種のbell状態|00>+|11>, |00>-|11>, |01>+|10>, |01>-|10>をそれぞれ作成せよ。"
   ]
  },
  {
   "attachments": {},
   "cell_type": "markdown",
   "metadata": {},
   "source": [
    "## 解答"
   ]
  },
  {
   "cell_type": "code",
   "execution_count": 2,
   "metadata": {},
   "outputs": [
    {
     "data": {
      "text/html": [
       "<pre style=\"word-wrap: normal;white-space: pre;background: #fff0;line-height: 1.1;font-family: &quot;Courier New&quot;,Courier,monospace\">     ┌───┐     \n",
       "q_0: ┤ H ├──■──\n",
       "     └───┘┌─┴─┐\n",
       "q_1: ─────┤ X ├\n",
       "          └───┘\n",
       "c: 2/══════════\n",
       "               </pre>"
      ],
      "text/plain": [
       "     ┌───┐     \n",
       "q_0: ┤ H ├──■──\n",
       "     └───┘┌─┴─┐\n",
       "q_1: ─────┤ X ├\n",
       "          └───┘\n",
       "c: 2/══════════\n",
       "               "
      ]
     },
     "metadata": {},
     "output_type": "display_data"
    },
    {
     "name": "stdout",
     "output_type": "stream",
     "text": [
      "{'00': (0.7071067811865475+0j), '11': (0.7071067811865475+0j)}\n"
     ]
    }
   ],
   "source": [
    "# (|00> + |11>)/sqrt(2)\n",
    "qc = QuantumCircuit(2, 2)\n",
    "qc.h(0)\n",
    "qc.cx(0, 1)\n",
    "\n",
    "display(qc.draw())\n",
    "state_vec = Statevector(qc).to_dict()\n",
    "print(state_vec)"
   ]
  },
  {
   "cell_type": "code",
   "execution_count": 3,
   "metadata": {},
   "outputs": [
    {
     "data": {
      "text/html": [
       "<pre style=\"word-wrap: normal;white-space: pre;background: #fff0;line-height: 1.1;font-family: &quot;Courier New&quot;,Courier,monospace\">     ┌───┐┌───┐     \n",
       "q_0: ┤ X ├┤ H ├──■──\n",
       "     └───┘└───┘┌─┴─┐\n",
       "q_1: ──────────┤ X ├\n",
       "               └───┘\n",
       "c: 2/═══════════════\n",
       "                    </pre>"
      ],
      "text/plain": [
       "     ┌───┐┌───┐     \n",
       "q_0: ┤ X ├┤ H ├──■──\n",
       "     └───┘└───┘┌─┴─┐\n",
       "q_1: ──────────┤ X ├\n",
       "               └───┘\n",
       "c: 2/═══════════════\n",
       "                    "
      ]
     },
     "metadata": {},
     "output_type": "display_data"
    },
    {
     "name": "stdout",
     "output_type": "stream",
     "text": [
      "{'00': (0.7071067811865475+0j), '11': (-0.7071067811865475+0j)}\n"
     ]
    }
   ],
   "source": [
    "# (|00> - |11>)/sqrt(2)\n",
    "qc = QuantumCircuit(2, 2)\n",
    "qc.x(0)\n",
    "qc.h(0)\n",
    "qc.cx(0, 1)\n",
    "\n",
    "display(qc.draw())\n",
    "state_vec = Statevector(qc).to_dict()\n",
    "print(state_vec)"
   ]
  },
  {
   "cell_type": "code",
   "execution_count": 4,
   "metadata": {},
   "outputs": [
    {
     "data": {
      "text/html": [
       "<pre style=\"word-wrap: normal;white-space: pre;background: #fff0;line-height: 1.1;font-family: &quot;Courier New&quot;,Courier,monospace\">     ┌───┐     \n",
       "q_0: ┤ H ├──■──\n",
       "     ├───┤┌─┴─┐\n",
       "q_1: ┤ X ├┤ X ├\n",
       "     └───┘└───┘\n",
       "c: 2/══════════\n",
       "               </pre>"
      ],
      "text/plain": [
       "     ┌───┐     \n",
       "q_0: ┤ H ├──■──\n",
       "     ├───┤┌─┴─┐\n",
       "q_1: ┤ X ├┤ X ├\n",
       "     └───┘└───┘\n",
       "c: 2/══════════\n",
       "               "
      ]
     },
     "metadata": {},
     "output_type": "display_data"
    },
    {
     "name": "stdout",
     "output_type": "stream",
     "text": [
      "{'01': (0.7071067811865475+0j), '10': (0.7071067811865475+0j)}\n"
     ]
    }
   ],
   "source": [
    "# (|01> + |10>)/sqrt(2)\n",
    "qc = QuantumCircuit(2, 2)\n",
    "qc.x(1)\n",
    "qc.h(0)\n",
    "qc.cx(0, 1)\n",
    "\n",
    "display(qc.draw())\n",
    "state_vec = Statevector(qc).to_dict()\n",
    "print(state_vec)"
   ]
  },
  {
   "cell_type": "code",
   "execution_count": 5,
   "metadata": {},
   "outputs": [
    {
     "data": {
      "text/html": [
       "<pre style=\"word-wrap: normal;white-space: pre;background: #fff0;line-height: 1.1;font-family: &quot;Courier New&quot;,Courier,monospace\">     ┌───┐┌───┐     \n",
       "q_0: ┤ X ├┤ H ├──■──\n",
       "     ├───┤└───┘┌─┴─┐\n",
       "q_1: ┤ X ├─────┤ X ├\n",
       "     └───┘     └───┘\n",
       "c: 2/═══════════════\n",
       "                    </pre>"
      ],
      "text/plain": [
       "     ┌───┐┌───┐     \n",
       "q_0: ┤ X ├┤ H ├──■──\n",
       "     ├───┤└───┘┌─┴─┐\n",
       "q_1: ┤ X ├─────┤ X ├\n",
       "     └───┘     └───┘\n",
       "c: 2/═══════════════\n",
       "                    "
      ]
     },
     "metadata": {},
     "output_type": "display_data"
    },
    {
     "name": "stdout",
     "output_type": "stream",
     "text": [
      "{'01': (-0.7071067811865475+0j), '10': (0.7071067811865475+0j)}\n"
     ]
    }
   ],
   "source": [
    "# (|01> - |10>)/sqrt(2)\n",
    "qc = QuantumCircuit(2, 2)\n",
    "qc.x([0, 1])\n",
    "qc.h(0)\n",
    "qc.cx(0, 1)\n",
    "\n",
    "display(qc.draw())\n",
    "state_vec = Statevector(qc).to_dict()\n",
    "print(state_vec)"
   ]
  },
  {
   "attachments": {},
   "cell_type": "markdown",
   "metadata": {},
   "source": [
    "## 解説\n",
    "Bell状態またはEPR状態は、計算基底を初期状態として持つ2量子ビットの量子回路において、アダマールゲートと制御Xゲートを実行することで得られる。初期状態が$|00\\rangle$のケースを具体的に計算してみる。まずアダマールゲートを0番目の量子ビットに作用させると\n",
    "$$\n",
    "|00\\rangle \\to (|00\\rangle+|01\\rangle)/\\sqrt{2}\n",
    "$$\n",
    "が得られる。次に、0番目の量子ビットを制御ビットとする制御Xゲートを1番目の量子ビットに作用させると\n",
    "$$\n",
    "(|00\\rangle+|01\\rangle)/\\sqrt{2} \\to (|00\\rangle+|11\\rangle)/\\sqrt{2}\n",
    "$$\n",
    "となり、これが4種のBell状態のうちの一種である。残り3種のBell状態は、全く同じ操作を残り3種の初期状態すなわち$|01\\rangle$, $|10\\rangle$, $|11\\rangle$に対して行うことで得ることが出来る。実際に計算して確認してみて欲しい。\n",
    "\n",
    "Qiskitの量子回路クラス`QuantumCircuit`の量子ビットは初期状態が$|0\\rangle$である。これを$|1\\rangle$の状態にするには、Xゲートを作用させればよい。\n",
    "\n",
    "4番目のBell状態の出力結果は、求められている状態と比べてマイナス符号が全体に掛かっていることに読者は気が付いたかもしれない。これはグローバル位相であり、二つの状態は物理的には等価である。気になる場合には、`QuantumCircuit`のインスタンス作成時にグローバル位相を指定することでキャンセルすることもできる："
   ]
  },
  {
   "cell_type": "code",
   "execution_count": 7,
   "metadata": {},
   "outputs": [
    {
     "data": {
      "text/html": [
       "<pre style=\"word-wrap: normal;white-space: pre;background: #fff0;line-height: 1.1;font-family: &quot;Courier New&quot;,Courier,monospace\">global phase: π\n",
       "     ┌───┐┌───┐     \n",
       "q_0: ┤ X ├┤ H ├──■──\n",
       "     ├───┤└───┘┌─┴─┐\n",
       "q_1: ┤ X ├─────┤ X ├\n",
       "     └───┘     └───┘\n",
       "c: 2/═══════════════\n",
       "                    </pre>"
      ],
      "text/plain": [
       "global phase: π\n",
       "     ┌───┐┌───┐     \n",
       "q_0: ┤ X ├┤ H ├──■──\n",
       "     ├───┤└───┘┌─┴─┐\n",
       "q_1: ┤ X ├─────┤ X ├\n",
       "     └───┘     └───┘\n",
       "c: 2/═══════════════\n",
       "                    "
      ]
     },
     "metadata": {},
     "output_type": "display_data"
    },
    {
     "name": "stdout",
     "output_type": "stream",
     "text": [
      "{'01': (0.7071067811865475-8.659560562354932e-17j), '10': (-0.7071067811865475+8.659560562354932e-17j)}\n"
     ]
    }
   ],
   "source": [
    "# (|01> - |10>)/sqrt(2)\n",
    "qc = QuantumCircuit(2, 2, global_phase=np.pi)\n",
    "qc.x([0, 1])\n",
    "qc.h(0)\n",
    "qc.cx(0, 1)\n",
    "\n",
    "display(qc.draw())\n",
    "state_vec = Statevector(qc).to_dict()\n",
    "print(state_vec)"
   ]
  },
  {
   "cell_type": "markdown",
   "metadata": {},
   "source": [
    "## 参考資料\n",
    "- Pages 25-26 in Nielsen, M., & Chuang, I. (2010). Quantum Computation and Quantum Information: 10th Anniversary Edition. Cambridge: Cambridge University Press. doi:10.1017/CBO9780511976667"
   ]
  },
  {
   "cell_type": "markdown",
   "metadata": {},
   "source": [
    "# Q10  前問の結果を測定した場合、0と1を測定する確率はそれぞれ理論的にはいくつになるか。また実際に測定して理論値と比較してみよ。"
   ]
  },
  {
   "attachments": {},
   "cell_type": "markdown",
   "metadata": {},
   "source": [
    "## 解答"
   ]
  },
  {
   "cell_type": "code",
   "execution_count": 11,
   "metadata": {},
   "outputs": [
    {
     "name": "stdout",
     "output_type": "stream",
     "text": [
      "(|00>+|11>)/sqrt(2)\n",
      "Bitstring 00: Expected observation prob. = 0.5\n",
      "Bitstring 11: Expected observation prob. = 0.5\n",
      "Bitstring 11: Actual observation prob. = 0.5\n",
      "Bitstring 00: Actual observation prob. = 0.5\n",
      "(|00>-|11>)/sqrt(2)\n",
      "Bitstring 00: Expected observation prob. = 0.5\n",
      "Bitstring 11: Expected observation prob. = 0.5\n",
      "Bitstring 11: Actual observation prob. = 0.5\n",
      "Bitstring 00: Actual observation prob. = 0.5\n",
      "(|01>+|10>)/sqrt(2)\n",
      "Bitstring 01: Expected observation prob. = 0.5\n",
      "Bitstring 10: Expected observation prob. = 0.5\n",
      "Bitstring 10: Actual observation prob. = 0.5\n",
      "Bitstring 01: Actual observation prob. = 0.5\n",
      "(|01>-|10>)/sqrt(2)\n",
      "Bitstring 01: Expected observation prob. = 0.5\n",
      "Bitstring 10: Expected observation prob. = 0.5\n",
      "Bitstring 10: Actual observation prob. = 0.5\n",
      "Bitstring 01: Actual observation prob. = 0.5\n"
     ]
    }
   ],
   "source": [
    "bell_state_to_init_state = {\n",
    "    \"(|00>+|11>)/sqrt(2)\": [],\n",
    "    \"(|00>-|11>)/sqrt(2)\": [0],\n",
    "    \"(|01>+|10>)/sqrt(2)\": [1],\n",
    "    \"(|01>-|10>)/sqrt(2)\": [0, 1]    \n",
    "}\n",
    "\n",
    "for bell_state, init_state in bell_state_to_init_state.items():\n",
    "    print(bell_state)\n",
    "    qc = QuantumCircuit(2, 2)\n",
    "    for i in init_state:\n",
    "        qc.x(i)\n",
    "    qc.h(0)\n",
    "    qc.cx(0, 1)\n",
    "    state_vec = Statevector(qc).to_dict()\n",
    "\n",
    "    for bitstring, wave_func in state_vec.items():\n",
    "        prob = wave_func.real**2 + wave_func.imag**2\n",
    "        print(f\"Bitstring {bitstring}: \"\n",
    "              f\"Expected observation prob. = {np.round(prob, 8)}\")\n",
    "\n",
    "    qc.measure([0, 1], [0, 1])\n",
    "    shots = 100000\n",
    "    counts = sim.run(qc, shots=shots).result().get_counts()\n",
    "    for bitstring, count in counts.items():\n",
    "        print(f\"Bitstring {bitstring}: \"\n",
    "              f\"Actual observation prob. = {np.round(count/shots, 2)}\")"
   ]
  },
  {
   "attachments": {},
   "cell_type": "markdown",
   "metadata": {},
   "source": [
    "## 解説\n",
    "基底状態すなわち$|0\\rangle$および$|1\\rangle$に掛かる係数の絶対値の二乗が、その基底状態の測定確率を表す。Bell状態の1つである$(|00\\rangle+|11\\rangle)/\\sqrt{2}$を具体的に見てみると、$|00\\rangle$と$|11\\rangle$に掛かる係数は共通の$1/\\sqrt{2}$である。故に、$|00\\rangle$と$|11\\rangle$が出力される確率は共通の$|1/\\sqrt{2}|^2 = 0.5$であると理論的に予測できる。\n",
    "\n",
    "これを実際に測定して確認するには、測定を複数回行い、$|00\\rangle$および$|11\\rangle$が出力される回数をカウントして、それを測定の回数で割ればよい。測定の回数(=shots)が十分に大きければ、0.5に収束することを確認できる。"
   ]
  }
 ],
 "metadata": {
  "kernelspec": {
   "display_name": "Python 3",
   "language": "python",
   "name": "python3"
  },
  "language_info": {
   "codemirror_mode": {
    "name": "ipython",
    "version": 3
   },
   "file_extension": ".py",
   "mimetype": "text/x-python",
   "name": "python",
   "nbconvert_exporter": "python",
   "pygments_lexer": "ipython3",
   "version": "3.8.13"
  },
  "orig_nbformat": 4
 },
 "nbformat": 4,
 "nbformat_minor": 2
}
