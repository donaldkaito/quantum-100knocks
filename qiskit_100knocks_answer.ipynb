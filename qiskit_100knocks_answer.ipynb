{
 "cells": [
  {
   "cell_type": "code",
   "execution_count": 1,
   "metadata": {},
   "outputs": [],
   "source": [
    "import numpy as np\n",
    "from qiskit import QuantumCircuit, Aer\n",
    "from qiskit.visualization import plot_bloch_multivector\n",
    "from qiskit.quantum_info import Statevector\n",
    "\n",
    "sim = Aer.get_backend(\"aer_simulator\")"
   ]
  },
  {
   "attachments": {},
   "cell_type": "markdown",
   "metadata": {},
   "source": [
    "# Q4 通常の測定(Z測定)では$|+\\rangle$状態と$|-\\rangle$状態の区別をすることができない。この２つの状態を区別できる測定基底を作成せよ。"
   ]
  },
  {
   "attachments": {},
   "cell_type": "markdown",
   "metadata": {},
   "source": [
    "## 解説\n",
    "まず、通常の測定(Z測定)では$|+\\rangle$状態と$|-\\rangle$状態の区別をすることができないことは、下記のように確認できる。\n",
    "$|+\\rangle$状態と$|-\\rangle$状態を、通常の測定に採用されている基底状態、すなわち$Z$の固有状態を用いて展開すると\n",
    "$$\n",
    "|+\\rangle = (|0\\rangle+|1\\rangle)/\\sqrt{2},\\ \\ |-\\rangle = (|0\\rangle-|1\\rangle)/\\sqrt{2}\n",
    "$$\n",
    "と書くことができる。基底状態に掛かる係数の絶対値の二乗が、その基底状態の測定確率を表すことを思い出してほしい。$|+\\rangle$状態を測定すると、$1/2$の確率で$|0\\rangle$状態が、$1/2$の確率で$|1\\rangle$状態が出力される。同様に$|-\\rangle$状態を測定すると、$1/2$の確率で$|0\\rangle$状態が、$1/2$の確率で$|1\\rangle$状態が出力される。すなわち、$|+\\rangle$と$|-\\rangle$の両状態において、等確率で$|0\\rangle$と$|1\\rangle$の状態が測定の結果として得られる。このことから、一回のみの測定に限らず、無数に測定を行っても、両状態を区別できないことが分かる。\n",
    "\n",
    "$|+\\rangle$状態と$|-\\rangle$状態は互いに直交するため、測定の基底を上手く選ぶことで一度の測定で区別することができる。ここでは、測定の基底そのものを変更するのではなく、測定の直前に測定対象の状態を操作することで、同じ効果を得るアプローチを示す。やや天下りにはなるが、測定の直前にアダマールゲートを実行すればよい。$|+\\rangle$状態と$|-\\rangle$状態はそれぞれ\n",
    "$$\n",
    "H |+\\rangle = |0\\rangle, \\ \\ H |-\\rangle = |1\\rangle\n",
    "$$\n",
    "となり、元々$|+\\rangle$であった状態からは100%の確率で$|0\\rangle$が出力されて、元々$|-\\rangle$であった状態からは100%の確率で$|1\\rangle$が出力されることが分かる。\n",
    "\n",
    "## 参考資料\n",
    "- Pages 22, 56-57 and 84-87 in Nielsen, M., & Chuang, I. (2010). Quantum Computation and Quantum Information: 10th Anniversary Edition. Cambridge: Cambridge University Press. doi:10.1017/CBO9780511976667\n"
   ]
  }
 ],
 "metadata": {
  "kernelspec": {
   "display_name": "Python 3",
   "language": "python",
   "name": "python3"
  },
  "language_info": {
   "codemirror_mode": {
    "name": "ipython",
    "version": 3
   },
   "file_extension": ".py",
   "mimetype": "text/x-python",
   "name": "python",
   "nbconvert_exporter": "python",
   "pygments_lexer": "ipython3",
   "version": "3.8.13"
  },
  "orig_nbformat": 4
 },
 "nbformat": 4,
 "nbformat_minor": 2
}
