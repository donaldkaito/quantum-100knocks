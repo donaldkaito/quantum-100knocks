{
 "cells": [
  {
   "cell_type": "markdown",
   "id": "e206e4a0",
   "metadata": {},
   "source": [
    "# Q1  13の2進数表示(5桁)を文字列で表示せよ(右端を最小桁とする)、また左から3桁目のビットを反転した際は10進数でいくつになるか？ 任意の数について同様の計算を行う関数を作成せよ。"
   ]
  },
  {
   "cell_type": "code",
   "execution_count": 56,
   "id": "c3c64698",
   "metadata": {},
   "outputs": [
    {
     "name": "stdout",
     "output_type": "stream",
     "text": [
      "01101\n",
      "01001\n"
     ]
    }
   ],
   "source": [
    "# 13の2進数表記\n",
    "binary_13 = f\"{13:05b}\"\n",
    "print(binary_13)\n",
    "\n",
    "new_binary = binary_13[:2] + (\"0\" if binary_13[2] ==\"1\" else \"1\") + binary_13[3:]\n",
    "print(new_binary)\n",
    "\n",
    "def flip_3rd_digid(integer):\n",
    "    binary =  f\"{integer:05b}\"\n",
    "    new_binary = binary[:2] + (\"0\" if binary[2] ==\"1\" else \"1\") + binary[3:]\n",
    "    return new_binary"
   ]
  },
  {
   "cell_type": "markdown",
   "id": "d6a5198a",
   "metadata": {},
   "source": [
    "# Q2\n"
   ]
  },
  {
   "cell_type": "markdown",
   "id": "852fb8ea",
   "metadata": {},
   "source": [
    "\n",
    "# Q3\n",
    "\n"
   ]
  },
  {
   "cell_type": "markdown",
   "id": "15ab67a0",
   "metadata": {},
   "source": [
    "# Q4"
   ]
  },
  {
   "cell_type": "markdown",
   "id": "41f21fa7",
   "metadata": {},
   "source": [
    "\n",
    "# Q5\n",
    "\n"
   ]
  },
  {
   "cell_type": "markdown",
   "id": "02aef686",
   "metadata": {},
   "source": [
    "# Q6\n",
    "\n",
    "\n"
   ]
  },
  {
   "cell_type": "markdown",
   "id": "c008e9b7",
   "metadata": {},
   "source": [
    "# Q7\n",
    "\n"
   ]
  },
  {
   "cell_type": "markdown",
   "id": "762b2009",
   "metadata": {},
   "source": [
    "# Q8\n",
    "\n"
   ]
  },
  {
   "cell_type": "markdown",
   "id": "6d96eccf",
   "metadata": {},
   "source": [
    "# Q9"
   ]
  },
  {
   "cell_type": "markdown",
   "id": "019e6d9f",
   "metadata": {},
   "source": [
    "# Q10\n"
   ]
  },
  {
   "cell_type": "markdown",
   "id": "826e6a0d",
   "metadata": {},
   "source": [
    "\n",
    "# Q11\n"
   ]
  },
  {
   "cell_type": "markdown",
   "id": "beb830e3",
   "metadata": {},
   "source": [
    "\n",
    "# Q12\n"
   ]
  },
  {
   "cell_type": "markdown",
   "id": "8cce0dcf",
   "metadata": {},
   "source": [
    "\n",
    "# Q13\n"
   ]
  },
  {
   "cell_type": "markdown",
   "id": "ec1b408d",
   "metadata": {},
   "source": [
    "\n",
    "# Q14\n"
   ]
  },
  {
   "cell_type": "markdown",
   "id": "25dccf8c",
   "metadata": {},
   "source": [
    "\n",
    "# Q15"
   ]
  },
  {
   "cell_type": "code",
   "execution_count": null,
   "id": "03a96540",
   "metadata": {},
   "outputs": [],
   "source": []
  }
 ],
 "metadata": {
  "kernelspec": {
   "display_name": "Python 3",
   "language": "python",
   "name": "python3"
  },
  "language_info": {
   "codemirror_mode": {
    "name": "ipython",
    "version": 3
   },
   "file_extension": ".py",
   "mimetype": "text/x-python",
   "name": "python",
   "nbconvert_exporter": "python",
   "pygments_lexer": "ipython3",
   "version": "3.7.6"
  },
  "toc": {
   "base_numbering": 1,
   "nav_menu": {},
   "number_sections": false,
   "sideBar": true,
   "skip_h1_title": false,
   "title_cell": "Table of Contents",
   "title_sidebar": "Contents",
   "toc_cell": false,
   "toc_position": {
    "height": "calc(100% - 180px)",
    "left": "10px",
    "top": "150px",
    "width": "384px"
   },
   "toc_section_display": true,
   "toc_window_display": true
  }
 },
 "nbformat": 4,
 "nbformat_minor": 5
}
